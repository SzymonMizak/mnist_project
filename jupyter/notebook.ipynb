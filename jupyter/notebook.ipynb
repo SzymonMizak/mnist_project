{
 "cells": [
  {
   "cell_type": "code",
   "execution_count": 1,
   "id": "0a879b27",
   "metadata": {
    "executionInfo": {
     "elapsed": 234,
     "status": "ok",
     "timestamp": 1656085447682,
     "user": {
      "displayName": "Szymon Mizak",
      "userId": "00661265146183260123"
     },
     "user_tz": -120
    },
    "id": "0a879b27"
   },
   "outputs": [],
   "source": [
    "from sklearn.datasets import fetch_openml\n",
    "from sklearn.preprocessing import StandardScaler\n",
    "from sklearn.model_selection import train_test_split\n",
    "\n",
    "import tensorflow as tf\n",
    "from tensorflow.keras.models import Sequential\n",
    "from tensorflow.keras.layers import Dense, Dropout, Input, BatchNormalization\n",
    "from tensorflow.keras.optimizers import Adam\n",
    "from tensorflow.keras.losses import categorical_crossentropy\n",
    "\n",
    "import talos\n",
    "\n",
    "import numpy as np\n",
    "import matplotlib.pyplot as plt\n",
    "import seaborn as sns\n",
    "import time\n",
    "import os"
   ]
  },
  {
   "cell_type": "code",
   "execution_count": 2,
   "id": "d48cf3de",
   "metadata": {
    "executionInfo": {
     "elapsed": 36679,
     "status": "ok",
     "timestamp": 1656073442947,
     "user": {
      "displayName": "Szymon Mizak",
      "userId": "00661265146183260123"
     },
     "user_tz": -120
    },
    "id": "d48cf3de"
   },
   "outputs": [],
   "source": [
    "# Fetch data and split into training-validation set and test set\n",
    "mnist = fetch_openml(\"mnist_784\", version = 1)\n",
    "X, y = mnist[\"data\"], mnist[\"target\"]\n",
    "y = y.astype(np.int8) # converting target to numbers instead of character\n",
    "X_prevalidsplit, X_test, y_prevalidsplit, y_test = X[:60000], X[60000:], y[:60000], y[60000:]"
   ]
  },
  {
   "cell_type": "code",
   "execution_count": 3,
   "id": "c9d4e186",
   "metadata": {
    "executionInfo": {
     "elapsed": 353,
     "status": "ok",
     "timestamp": 1656073443284,
     "user": {
      "displayName": "Szymon Mizak",
      "userId": "00661265146183260123"
     },
     "user_tz": -120
    },
    "id": "c9d4e186"
   },
   "outputs": [],
   "source": [
    "# Split set into training and validation set\n",
    "X_train, X_valid, y_train, y_valid = train_test_split(X_prevalidsplit, y_prevalidsplit, random_state=42, test_size=0.2)"
   ]
  },
  {
   "cell_type": "code",
   "execution_count": 4,
   "id": "a0e171ee",
   "metadata": {
    "executionInfo": {
     "elapsed": 1245,
     "status": "ok",
     "timestamp": 1656073444527,
     "user": {
      "displayName": "Szymon Mizak",
      "userId": "00661265146183260123"
     },
     "user_tz": -120
    },
    "id": "a0e171ee"
   },
   "outputs": [],
   "source": [
    "# Standardize Xs\n",
    "scaler = StandardScaler()\n",
    "X_train_tr = scaler.fit_transform(X_train)\n",
    "X_valid_tr = scaler.transform(X_valid)\n",
    "X_test_tr = scaler.transform(X_test)\n",
    "\n",
    "# convert targets to one-hot vertors\n",
    "y_train = tf.keras.utils.to_categorical(y_train)\n",
    "y_valid = tf.keras.utils.to_categorical(y_valid)\n",
    "y_test = tf.keras.utils.to_categorical(y_test)"
   ]
  },
  {
   "cell_type": "markdown",
   "id": "a1c6a123",
   "metadata": {
    "id": "a1c6a123"
   },
   "source": [
    "Define neural network model as object to use for hyperparameters tunning (N of hidden layers, N of neurons within layer, regularization, batch size)"
   ]
  },
  {
   "cell_type": "code",
   "execution_count": 16,
   "id": "PjSm2zf3dh0I",
   "metadata": {
    "executionInfo": {
     "elapsed": 7,
     "status": "ok",
     "timestamp": 1656073444527,
     "user": {
      "displayName": "Szymon Mizak",
      "userId": "00661265146183260123"
     },
     "user_tz": -120
    },
    "id": "PjSm2zf3dh0I"
   },
   "outputs": [],
   "source": [
    "# helper function for tensorboard callback\n",
    "root_logdir = os.path.join(os.curdir, \"/Users/szymonmizak/machine_learning/mnist_project\", \"my_logs\")\n",
    "def get_run_logdir(): \n",
    "  run_id = time.strftime(\"run_%Y_%m%d-%H_%M_%S\")\n",
    "  return os.path.join(root_logdir, run_id)"
   ]
  },
  {
   "cell_type": "code",
   "execution_count": 17,
   "id": "f3a272cb",
   "metadata": {
    "executionInfo": {
     "elapsed": 198,
     "status": "ok",
     "timestamp": 1656087893972,
     "user": {
      "displayName": "Szymon Mizak",
      "userId": "00661265146183260123"
     },
     "user_tz": -120
    },
    "id": "f3a272cb"
   },
   "outputs": [],
   "source": [
    "# define callback to use in model function\n",
    "early_stopping_cb = tf.keras.callbacks.EarlyStopping(patience = 10, restore_best_weights=True)\n",
    "\n",
    "# define model generation function\n",
    "def mnist_dense_model(x_tr, y_tr, x_val, y_val, params):\n",
    "    # build model architecture\n",
    "    model = Sequential()\n",
    "    model.add(Input(shape=x_tr.shape[1])) \n",
    "    \n",
    "    for l in params['hidden_layers']:\n",
    "        model.add(tf.keras.layers.Dense(l, activation=params['activation']))\n",
    "        if params['batch_normalization'] == True:\n",
    "            model.add(BatchNormalization())\n",
    "\n",
    "    model.add(Dropout(params['dropout_rate']))\n",
    "    model.add(\n",
    "        Dense(10, activation=params['last_activation'])\n",
    "        ) \n",
    "\n",
    "    # compile model\n",
    "    model.compile(optimizer = params['optimizer'](learning_rate = params['lr']), \n",
    "                  loss = params['losses'], \n",
    "                  metrics=['accuracy']) \n",
    "    # fit model\n",
    "    history = model.fit(x_tr, y_tr, \n",
    "                        validation_data = [x_val, y_val], \n",
    "                        batch_size = params['batch_size'], \n",
    "                        callbacks = [early_stopping_cb, tf.keras.callbacks.TensorBoard(get_run_logdir())], \n",
    "                        epochs = params['epochs'],\n",
    "                        verbose = 0\n",
    "                        )\n",
    "    return history, model\n",
    "\n",
    "# Define hyperparameters grid\n",
    "params_space = {\n",
    "    'lr': [0.0001, 0.0003, 0.001, 0.003],\n",
    "    'hidden_layers': [(256, 256), (256, 256, 256), (256, 256, 256, 256), \n",
    "                      (512, 512), (512, 512, 512), (512, 512, 512, 512)], \n",
    "    'shapes': ['brick'],     \n",
    "    'batch_size': [8, 16, 32], \n",
    "    'epochs': [100], \n",
    "    'optimizer': [Adam], \n",
    "    'losses': ['categorical_crossentropy'], \n",
    "    'activation': ['relu'], \n",
    "    'last_activation': ['softmax'], \n",
    "    'dropout_rate': [0, .1, .2], \n",
    "    'batch_normalization': [True, False]\n",
    "}"
   ]
  },
  {
   "cell_type": "code",
   "execution_count": 18,
   "id": "opNBvyglNOxQ",
   "metadata": {
    "colab": {
     "base_uri": "https://localhost:8080/"
    },
    "collapsed": true,
    "id": "opNBvyglNOxQ",
    "outputId": "95c8b65c-0777-408f-ea09-e4b4586ed587"
   },
   "outputs": [
    {
     "name": "stderr",
     "output_type": "stream",
     "text": [
      "  0%|                                                    | 0/86 [00:00<?, ?it/s]2022-06-24 19:44:54.104160: I tensorflow/core/platform/cpu_feature_guard.cc:193] This TensorFlow binary is optimized with oneAPI Deep Neural Network Library (oneDNN) to use the following CPU instructions in performance-critical operations:  AVX2 FMA\n",
      "To enable them in other operations, rebuild TensorFlow with the appropriate compiler flags.\n"
     ]
    },
    {
     "name": "stdout",
     "output_type": "stream",
     "text": [
      "{'lr': 0.001, 'hidden_layers': (512, 512, 512), 'shapes': 'brick', 'batch_size': 32, 'epochs': 100, 'optimizer': <class 'keras.optimizers.optimizer_v2.adam.Adam'>, 'losses': 'categorical_crossentropy', 'activation': 'relu', 'last_activation': 'softmax', 'dropout_rate': 0.1, 'batch_normalization': False}\n"
     ]
    },
    {
     "name": "stderr",
     "output_type": "stream",
     "text": [
      "\r",
      "  1%|▍                                        | 1/86 [01:58<2:47:30, 118.24s/it]"
     ]
    },
    {
     "name": "stdout",
     "output_type": "stream",
     "text": [
      "{'lr': 0.0001, 'hidden_layers': (256, 256, 256), 'shapes': 'brick', 'batch_size': 32, 'epochs': 100, 'optimizer': <class 'keras.optimizers.optimizer_v2.adam.Adam'>, 'losses': 'categorical_crossentropy', 'activation': 'relu', 'last_activation': 'softmax', 'dropout_rate': 0.2, 'batch_normalization': False}\n"
     ]
    },
    {
     "name": "stderr",
     "output_type": "stream",
     "text": [
      "\r",
      "  2%|▉                                        | 2/86 [03:33<2:26:18, 104.50s/it]"
     ]
    },
    {
     "name": "stdout",
     "output_type": "stream",
     "text": [
      "{'lr': 0.001, 'hidden_layers': (512, 512, 512), 'shapes': 'brick', 'batch_size': 16, 'epochs': 100, 'optimizer': <class 'keras.optimizers.optimizer_v2.adam.Adam'>, 'losses': 'categorical_crossentropy', 'activation': 'relu', 'last_activation': 'softmax', 'dropout_rate': 0, 'batch_normalization': False}\n"
     ]
    },
    {
     "name": "stderr",
     "output_type": "stream",
     "text": [
      "\r",
      "  3%|█▍                                       | 3/86 [06:28<3:09:06, 136.70s/it]"
     ]
    },
    {
     "name": "stdout",
     "output_type": "stream",
     "text": [
      "{'lr': 0.003, 'hidden_layers': (512, 512, 512), 'shapes': 'brick', 'batch_size': 8, 'epochs': 100, 'optimizer': <class 'keras.optimizers.optimizer_v2.adam.Adam'>, 'losses': 'categorical_crossentropy', 'activation': 'relu', 'last_activation': 'softmax', 'dropout_rate': 0, 'batch_normalization': True}\n"
     ]
    },
    {
     "name": "stderr",
     "output_type": "stream",
     "text": [
      "\r",
      "  5%|█▉                                       | 4/86 [13:51<5:52:20, 257.81s/it]"
     ]
    },
    {
     "name": "stdout",
     "output_type": "stream",
     "text": [
      "{'lr': 0.001, 'hidden_layers': (256, 256, 256), 'shapes': 'brick', 'batch_size': 32, 'epochs': 100, 'optimizer': <class 'keras.optimizers.optimizer_v2.adam.Adam'>, 'losses': 'categorical_crossentropy', 'activation': 'relu', 'last_activation': 'softmax', 'dropout_rate': 0, 'batch_normalization': True}\n"
     ]
    },
    {
     "name": "stderr",
     "output_type": "stream",
     "text": [
      "\r",
      "  6%|██▍                                      | 5/86 [15:08<4:19:52, 192.50s/it]"
     ]
    },
    {
     "name": "stdout",
     "output_type": "stream",
     "text": [
      "{'lr': 0.0003, 'hidden_layers': (256, 256, 256), 'shapes': 'brick', 'batch_size': 32, 'epochs': 100, 'optimizer': <class 'keras.optimizers.optimizer_v2.adam.Adam'>, 'losses': 'categorical_crossentropy', 'activation': 'relu', 'last_activation': 'softmax', 'dropout_rate': 0.1, 'batch_normalization': False}\n"
     ]
    },
    {
     "name": "stderr",
     "output_type": "stream",
     "text": [
      "\r",
      "  7%|██▊                                      | 6/86 [15:53<3:09:41, 142.27s/it]"
     ]
    },
    {
     "name": "stdout",
     "output_type": "stream",
     "text": [
      "{'lr': 0.003, 'hidden_layers': (512, 512, 512, 512), 'shapes': 'brick', 'batch_size': 32, 'epochs': 100, 'optimizer': <class 'keras.optimizers.optimizer_v2.adam.Adam'>, 'losses': 'categorical_crossentropy', 'activation': 'relu', 'last_activation': 'softmax', 'dropout_rate': 0, 'batch_normalization': False}\n"
     ]
    },
    {
     "name": "stderr",
     "output_type": "stream",
     "text": [
      "\r",
      "  8%|███▎                                     | 7/86 [18:27<3:12:27, 146.17s/it]"
     ]
    },
    {
     "name": "stdout",
     "output_type": "stream",
     "text": [
      "{'lr': 0.003, 'hidden_layers': (512, 512, 512, 512), 'shapes': 'brick', 'batch_size': 32, 'epochs': 100, 'optimizer': <class 'keras.optimizers.optimizer_v2.adam.Adam'>, 'losses': 'categorical_crossentropy', 'activation': 'relu', 'last_activation': 'softmax', 'dropout_rate': 0.2, 'batch_normalization': True}\n"
     ]
    },
    {
     "name": "stderr",
     "output_type": "stream",
     "text": [
      "\r",
      "  9%|███▊                                     | 8/86 [21:50<3:33:42, 164.39s/it]"
     ]
    },
    {
     "name": "stdout",
     "output_type": "stream",
     "text": [
      "{'lr': 0.003, 'hidden_layers': (512, 512, 512, 512), 'shapes': 'brick', 'batch_size': 32, 'epochs': 100, 'optimizer': <class 'keras.optimizers.optimizer_v2.adam.Adam'>, 'losses': 'categorical_crossentropy', 'activation': 'relu', 'last_activation': 'softmax', 'dropout_rate': 0.1, 'batch_normalization': False}\n"
     ]
    },
    {
     "name": "stderr",
     "output_type": "stream",
     "text": [
      "\r",
      " 10%|████▎                                    | 9/86 [23:58<3:16:23, 153.04s/it]"
     ]
    },
    {
     "name": "stdout",
     "output_type": "stream",
     "text": [
      "{'lr': 0.0001, 'hidden_layers': (256, 256), 'shapes': 'brick', 'batch_size': 8, 'epochs': 100, 'optimizer': <class 'keras.optimizers.optimizer_v2.adam.Adam'>, 'losses': 'categorical_crossentropy', 'activation': 'relu', 'last_activation': 'softmax', 'dropout_rate': 0.1, 'batch_normalization': False}\n"
     ]
    },
    {
     "name": "stderr",
     "output_type": "stream",
     "text": [
      "\r",
      " 12%|████▋                                   | 10/86 [26:21<3:09:56, 149.95s/it]"
     ]
    },
    {
     "name": "stdout",
     "output_type": "stream",
     "text": [
      "{'lr': 0.001, 'hidden_layers': (256, 256, 256), 'shapes': 'brick', 'batch_size': 32, 'epochs': 100, 'optimizer': <class 'keras.optimizers.optimizer_v2.adam.Adam'>, 'losses': 'categorical_crossentropy', 'activation': 'relu', 'last_activation': 'softmax', 'dropout_rate': 0.1, 'batch_normalization': False}\n"
     ]
    },
    {
     "name": "stderr",
     "output_type": "stream",
     "text": [
      "\r",
      " 13%|█████                                   | 11/86 [27:14<2:30:23, 120.32s/it]"
     ]
    },
    {
     "name": "stdout",
     "output_type": "stream",
     "text": [
      "{'lr': 0.003, 'hidden_layers': (256, 256), 'shapes': 'brick', 'batch_size': 16, 'epochs': 100, 'optimizer': <class 'keras.optimizers.optimizer_v2.adam.Adam'>, 'losses': 'categorical_crossentropy', 'activation': 'relu', 'last_activation': 'softmax', 'dropout_rate': 0, 'batch_normalization': False}\n"
     ]
    },
    {
     "name": "stderr",
     "output_type": "stream",
     "text": [
      "\r",
      " 14%|█████▌                                  | 12/86 [28:43<2:16:24, 110.61s/it]"
     ]
    },
    {
     "name": "stdout",
     "output_type": "stream",
     "text": [
      "{'lr': 0.003, 'hidden_layers': (512, 512), 'shapes': 'brick', 'batch_size': 8, 'epochs': 100, 'optimizer': <class 'keras.optimizers.optimizer_v2.adam.Adam'>, 'losses': 'categorical_crossentropy', 'activation': 'relu', 'last_activation': 'softmax', 'dropout_rate': 0.1, 'batch_normalization': False}\n"
     ]
    },
    {
     "name": "stderr",
     "output_type": "stream",
     "text": [
      "\r",
      " 15%|██████                                  | 13/86 [32:13<2:51:05, 140.62s/it]"
     ]
    },
    {
     "name": "stdout",
     "output_type": "stream",
     "text": [
      "{'lr': 0.0003, 'hidden_layers': (256, 256), 'shapes': 'brick', 'batch_size': 16, 'epochs': 100, 'optimizer': <class 'keras.optimizers.optimizer_v2.adam.Adam'>, 'losses': 'categorical_crossentropy', 'activation': 'relu', 'last_activation': 'softmax', 'dropout_rate': 0.2, 'batch_normalization': False}\n"
     ]
    },
    {
     "name": "stderr",
     "output_type": "stream",
     "text": [
      "\r",
      " 16%|██████▌                                 | 14/86 [33:41<2:29:45, 124.80s/it]"
     ]
    },
    {
     "name": "stdout",
     "output_type": "stream",
     "text": [
      "{'lr': 0.0001, 'hidden_layers': (256, 256, 256), 'shapes': 'brick', 'batch_size': 16, 'epochs': 100, 'optimizer': <class 'keras.optimizers.optimizer_v2.adam.Adam'>, 'losses': 'categorical_crossentropy', 'activation': 'relu', 'last_activation': 'softmax', 'dropout_rate': 0.2, 'batch_normalization': True}\n"
     ]
    },
    {
     "name": "stderr",
     "output_type": "stream",
     "text": [
      "\r",
      " 17%|██████▉                                 | 15/86 [35:52<2:30:06, 126.85s/it]"
     ]
    },
    {
     "name": "stdout",
     "output_type": "stream",
     "text": [
      "{'lr': 0.0003, 'hidden_layers': (512, 512, 512, 512), 'shapes': 'brick', 'batch_size': 8, 'epochs': 100, 'optimizer': <class 'keras.optimizers.optimizer_v2.adam.Adam'>, 'losses': 'categorical_crossentropy', 'activation': 'relu', 'last_activation': 'softmax', 'dropout_rate': 0.2, 'batch_normalization': False}\n"
     ]
    },
    {
     "name": "stderr",
     "output_type": "stream",
     "text": [
      "\r",
      " 19%|███████▍                                | 16/86 [42:21<3:59:46, 205.52s/it]"
     ]
    },
    {
     "name": "stdout",
     "output_type": "stream",
     "text": [
      "{'lr': 0.0003, 'hidden_layers': (256, 256), 'shapes': 'brick', 'batch_size': 8, 'epochs': 100, 'optimizer': <class 'keras.optimizers.optimizer_v2.adam.Adam'>, 'losses': 'categorical_crossentropy', 'activation': 'relu', 'last_activation': 'softmax', 'dropout_rate': 0.1, 'batch_normalization': True}\n"
     ]
    },
    {
     "name": "stderr",
     "output_type": "stream",
     "text": [
      "\r",
      " 20%|███████▉                                | 17/86 [45:13<3:44:52, 195.54s/it]"
     ]
    },
    {
     "name": "stdout",
     "output_type": "stream",
     "text": [
      "{'lr': 0.0003, 'hidden_layers': (512, 512), 'shapes': 'brick', 'batch_size': 8, 'epochs': 100, 'optimizer': <class 'keras.optimizers.optimizer_v2.adam.Adam'>, 'losses': 'categorical_crossentropy', 'activation': 'relu', 'last_activation': 'softmax', 'dropout_rate': 0.1, 'batch_normalization': True}\n"
     ]
    },
    {
     "name": "stderr",
     "output_type": "stream",
     "text": [
      "\r",
      " 21%|████████▎                               | 18/86 [49:59<4:12:36, 222.88s/it]"
     ]
    },
    {
     "name": "stdout",
     "output_type": "stream",
     "text": [
      "{'lr': 0.003, 'hidden_layers': (512, 512, 512, 512), 'shapes': 'brick', 'batch_size': 16, 'epochs': 100, 'optimizer': <class 'keras.optimizers.optimizer_v2.adam.Adam'>, 'losses': 'categorical_crossentropy', 'activation': 'relu', 'last_activation': 'softmax', 'dropout_rate': 0.1, 'batch_normalization': False}\n"
     ]
    },
    {
     "name": "stderr",
     "output_type": "stream",
     "text": [
      "\r",
      " 22%|████████▊                               | 19/86 [53:03<3:55:51, 211.22s/it]"
     ]
    },
    {
     "name": "stdout",
     "output_type": "stream",
     "text": [
      "{'lr': 0.0001, 'hidden_layers': (256, 256, 256), 'shapes': 'brick', 'batch_size': 8, 'epochs': 100, 'optimizer': <class 'keras.optimizers.optimizer_v2.adam.Adam'>, 'losses': 'categorical_crossentropy', 'activation': 'relu', 'last_activation': 'softmax', 'dropout_rate': 0.1, 'batch_normalization': True}\n"
     ]
    },
    {
     "name": "stderr",
     "output_type": "stream",
     "text": [
      "\r",
      " 23%|█████████▎                              | 20/86 [59:33<4:51:23, 264.89s/it]"
     ]
    },
    {
     "name": "stdout",
     "output_type": "stream",
     "text": [
      "{'lr': 0.003, 'hidden_layers': (256, 256, 256, 256), 'shapes': 'brick', 'batch_size': 32, 'epochs': 100, 'optimizer': <class 'keras.optimizers.optimizer_v2.adam.Adam'>, 'losses': 'categorical_crossentropy', 'activation': 'relu', 'last_activation': 'softmax', 'dropout_rate': 0.2, 'batch_normalization': False}\n"
     ]
    },
    {
     "name": "stderr",
     "output_type": "stream",
     "text": [
      "\r",
      " 24%|█████████▎                            | 21/86 [1:00:35<3:40:46, 203.79s/it]"
     ]
    },
    {
     "name": "stdout",
     "output_type": "stream",
     "text": [
      "{'lr': 0.001, 'hidden_layers': (256, 256, 256, 256), 'shapes': 'brick', 'batch_size': 16, 'epochs': 100, 'optimizer': <class 'keras.optimizers.optimizer_v2.adam.Adam'>, 'losses': 'categorical_crossentropy', 'activation': 'relu', 'last_activation': 'softmax', 'dropout_rate': 0.1, 'batch_normalization': False}\n"
     ]
    },
    {
     "name": "stderr",
     "output_type": "stream",
     "text": [
      "\r",
      " 26%|█████████▋                            | 22/86 [1:02:37<3:11:13, 179.28s/it]"
     ]
    },
    {
     "name": "stdout",
     "output_type": "stream",
     "text": [
      "{'lr': 0.001, 'hidden_layers': (512, 512), 'shapes': 'brick', 'batch_size': 32, 'epochs': 100, 'optimizer': <class 'keras.optimizers.optimizer_v2.adam.Adam'>, 'losses': 'categorical_crossentropy', 'activation': 'relu', 'last_activation': 'softmax', 'dropout_rate': 0.1, 'batch_normalization': False}\n"
     ]
    },
    {
     "name": "stderr",
     "output_type": "stream",
     "text": [
      "\r",
      " 27%|██████████▏                           | 23/86 [1:03:37<2:30:43, 143.55s/it]"
     ]
    },
    {
     "name": "stdout",
     "output_type": "stream",
     "text": [
      "{'lr': 0.003, 'hidden_layers': (512, 512), 'shapes': 'brick', 'batch_size': 8, 'epochs': 100, 'optimizer': <class 'keras.optimizers.optimizer_v2.adam.Adam'>, 'losses': 'categorical_crossentropy', 'activation': 'relu', 'last_activation': 'softmax', 'dropout_rate': 0.2, 'batch_normalization': True}\n"
     ]
    },
    {
     "name": "stderr",
     "output_type": "stream",
     "text": [
      "\r",
      " 28%|██████████▌                           | 24/86 [1:08:16<3:10:11, 184.06s/it]"
     ]
    },
    {
     "name": "stdout",
     "output_type": "stream",
     "text": [
      "{'lr': 0.0001, 'hidden_layers': (256, 256), 'shapes': 'brick', 'batch_size': 16, 'epochs': 100, 'optimizer': <class 'keras.optimizers.optimizer_v2.adam.Adam'>, 'losses': 'categorical_crossentropy', 'activation': 'relu', 'last_activation': 'softmax', 'dropout_rate': 0.1, 'batch_normalization': False}\n"
     ]
    },
    {
     "name": "stderr",
     "output_type": "stream",
     "text": [
      "\r",
      " 29%|███████████                           | 25/86 [1:09:34<2:34:46, 152.24s/it]"
     ]
    },
    {
     "name": "stdout",
     "output_type": "stream",
     "text": [
      "{'lr': 0.001, 'hidden_layers': (256, 256), 'shapes': 'brick', 'batch_size': 16, 'epochs': 100, 'optimizer': <class 'keras.optimizers.optimizer_v2.adam.Adam'>, 'losses': 'categorical_crossentropy', 'activation': 'relu', 'last_activation': 'softmax', 'dropout_rate': 0.2, 'batch_normalization': True}\n"
     ]
    },
    {
     "name": "stderr",
     "output_type": "stream",
     "text": [
      "\r",
      " 30%|███████████▍                          | 26/86 [1:11:46<2:26:24, 146.41s/it]"
     ]
    },
    {
     "name": "stdout",
     "output_type": "stream",
     "text": [
      "{'lr': 0.003, 'hidden_layers': (256, 256, 256, 256), 'shapes': 'brick', 'batch_size': 32, 'epochs': 100, 'optimizer': <class 'keras.optimizers.optimizer_v2.adam.Adam'>, 'losses': 'categorical_crossentropy', 'activation': 'relu', 'last_activation': 'softmax', 'dropout_rate': 0, 'batch_normalization': True}\n"
     ]
    },
    {
     "name": "stderr",
     "output_type": "stream",
     "text": [
      "\r",
      " 31%|███████████▉                          | 27/86 [1:13:44<2:15:31, 137.82s/it]"
     ]
    },
    {
     "name": "stdout",
     "output_type": "stream",
     "text": [
      "{'lr': 0.0003, 'hidden_layers': (256, 256, 256, 256), 'shapes': 'brick', 'batch_size': 32, 'epochs': 100, 'optimizer': <class 'keras.optimizers.optimizer_v2.adam.Adam'>, 'losses': 'categorical_crossentropy', 'activation': 'relu', 'last_activation': 'softmax', 'dropout_rate': 0, 'batch_normalization': False}\n"
     ]
    },
    {
     "name": "stderr",
     "output_type": "stream",
     "text": [
      "\r",
      " 33%|████████████▎                         | 28/86 [1:14:43<1:50:12, 114.00s/it]"
     ]
    },
    {
     "name": "stdout",
     "output_type": "stream",
     "text": [
      "{'lr': 0.001, 'hidden_layers': (512, 512, 512, 512), 'shapes': 'brick', 'batch_size': 8, 'epochs': 100, 'optimizer': <class 'keras.optimizers.optimizer_v2.adam.Adam'>, 'losses': 'categorical_crossentropy', 'activation': 'relu', 'last_activation': 'softmax', 'dropout_rate': 0.2, 'batch_normalization': False}\n"
     ]
    },
    {
     "name": "stderr",
     "output_type": "stream",
     "text": [
      "\r",
      " 34%|████████████▊                         | 29/86 [1:19:20<2:34:52, 163.03s/it]"
     ]
    },
    {
     "name": "stdout",
     "output_type": "stream",
     "text": [
      "{'lr': 0.0001, 'hidden_layers': (256, 256, 256), 'shapes': 'brick', 'batch_size': 8, 'epochs': 100, 'optimizer': <class 'keras.optimizers.optimizer_v2.adam.Adam'>, 'losses': 'categorical_crossentropy', 'activation': 'relu', 'last_activation': 'softmax', 'dropout_rate': 0.2, 'batch_normalization': False}\n"
     ]
    },
    {
     "name": "stderr",
     "output_type": "stream",
     "text": [
      "\r",
      " 35%|█████████████▎                        | 30/86 [1:21:48<2:27:49, 158.39s/it]"
     ]
    },
    {
     "name": "stdout",
     "output_type": "stream",
     "text": [
      "{'lr': 0.001, 'hidden_layers': (512, 512, 512, 512), 'shapes': 'brick', 'batch_size': 32, 'epochs': 100, 'optimizer': <class 'keras.optimizers.optimizer_v2.adam.Adam'>, 'losses': 'categorical_crossentropy', 'activation': 'relu', 'last_activation': 'softmax', 'dropout_rate': 0.1, 'batch_normalization': False}\n"
     ]
    },
    {
     "name": "stderr",
     "output_type": "stream",
     "text": [
      "\r",
      " 36%|█████████████▋                        | 31/86 [1:23:55<2:16:45, 149.18s/it]"
     ]
    },
    {
     "name": "stdout",
     "output_type": "stream",
     "text": [
      "{'lr': 0.0003, 'hidden_layers': (512, 512, 512), 'shapes': 'brick', 'batch_size': 16, 'epochs': 100, 'optimizer': <class 'keras.optimizers.optimizer_v2.adam.Adam'>, 'losses': 'categorical_crossentropy', 'activation': 'relu', 'last_activation': 'softmax', 'dropout_rate': 0.1, 'batch_normalization': False}\n"
     ]
    },
    {
     "name": "stderr",
     "output_type": "stream",
     "text": [
      "\r",
      " 37%|██████████████▏                       | 32/86 [1:26:16<2:12:02, 146.72s/it]"
     ]
    },
    {
     "name": "stdout",
     "output_type": "stream",
     "text": [
      "{'lr': 0.003, 'hidden_layers': (512, 512), 'shapes': 'brick', 'batch_size': 8, 'epochs': 100, 'optimizer': <class 'keras.optimizers.optimizer_v2.adam.Adam'>, 'losses': 'categorical_crossentropy', 'activation': 'relu', 'last_activation': 'softmax', 'dropout_rate': 0, 'batch_normalization': False}\n"
     ]
    },
    {
     "name": "stderr",
     "output_type": "stream",
     "text": [
      "\r",
      " 38%|██████████████▌                       | 33/86 [1:30:06<2:31:35, 171.61s/it]"
     ]
    },
    {
     "name": "stdout",
     "output_type": "stream",
     "text": [
      "{'lr': 0.001, 'hidden_layers': (512, 512), 'shapes': 'brick', 'batch_size': 32, 'epochs': 100, 'optimizer': <class 'keras.optimizers.optimizer_v2.adam.Adam'>, 'losses': 'categorical_crossentropy', 'activation': 'relu', 'last_activation': 'softmax', 'dropout_rate': 0, 'batch_normalization': True}\n"
     ]
    },
    {
     "name": "stderr",
     "output_type": "stream",
     "text": [
      "\r",
      " 40%|███████████████                       | 34/86 [1:31:51<2:11:31, 151.75s/it]"
     ]
    },
    {
     "name": "stdout",
     "output_type": "stream",
     "text": [
      "{'lr': 0.001, 'hidden_layers': (512, 512, 512, 512), 'shapes': 'brick', 'batch_size': 16, 'epochs': 100, 'optimizer': <class 'keras.optimizers.optimizer_v2.adam.Adam'>, 'losses': 'categorical_crossentropy', 'activation': 'relu', 'last_activation': 'softmax', 'dropout_rate': 0, 'batch_normalization': False}\n"
     ]
    },
    {
     "name": "stderr",
     "output_type": "stream",
     "text": [
      "\r",
      " 41%|███████████████▍                      | 35/86 [1:36:15<2:37:30, 185.30s/it]"
     ]
    },
    {
     "name": "stdout",
     "output_type": "stream",
     "text": [
      "{'lr': 0.0001, 'hidden_layers': (512, 512), 'shapes': 'brick', 'batch_size': 8, 'epochs': 100, 'optimizer': <class 'keras.optimizers.optimizer_v2.adam.Adam'>, 'losses': 'categorical_crossentropy', 'activation': 'relu', 'last_activation': 'softmax', 'dropout_rate': 0.2, 'batch_normalization': True}\n"
     ]
    },
    {
     "name": "stderr",
     "output_type": "stream",
     "text": [
      "\r",
      " 42%|███████████████▉                      | 36/86 [1:42:48<3:26:14, 247.49s/it]"
     ]
    },
    {
     "name": "stdout",
     "output_type": "stream",
     "text": [
      "{'lr': 0.0003, 'hidden_layers': (512, 512, 512), 'shapes': 'brick', 'batch_size': 16, 'epochs': 100, 'optimizer': <class 'keras.optimizers.optimizer_v2.adam.Adam'>, 'losses': 'categorical_crossentropy', 'activation': 'relu', 'last_activation': 'softmax', 'dropout_rate': 0.1, 'batch_normalization': True}\n"
     ]
    },
    {
     "name": "stderr",
     "output_type": "stream",
     "text": [
      "\r",
      " 43%|████████████████▎                     | 37/86 [1:47:19<3:27:54, 254.59s/it]"
     ]
    },
    {
     "name": "stdout",
     "output_type": "stream",
     "text": [
      "{'lr': 0.0001, 'hidden_layers': (512, 512, 512), 'shapes': 'brick', 'batch_size': 32, 'epochs': 100, 'optimizer': <class 'keras.optimizers.optimizer_v2.adam.Adam'>, 'losses': 'categorical_crossentropy', 'activation': 'relu', 'last_activation': 'softmax', 'dropout_rate': 0, 'batch_normalization': False}\n"
     ]
    },
    {
     "name": "stderr",
     "output_type": "stream",
     "text": [
      "\r",
      " 44%|████████████████▊                     | 38/86 [1:49:38<2:56:00, 220.01s/it]"
     ]
    },
    {
     "name": "stdout",
     "output_type": "stream",
     "text": [
      "{'lr': 0.003, 'hidden_layers': (256, 256), 'shapes': 'brick', 'batch_size': 32, 'epochs': 100, 'optimizer': <class 'keras.optimizers.optimizer_v2.adam.Adam'>, 'losses': 'categorical_crossentropy', 'activation': 'relu', 'last_activation': 'softmax', 'dropout_rate': 0.1, 'batch_normalization': True}\n"
     ]
    },
    {
     "name": "stderr",
     "output_type": "stream",
     "text": [
      "\r",
      " 45%|█████████████████▏                    | 39/86 [1:51:04<2:20:51, 179.82s/it]"
     ]
    },
    {
     "name": "stdout",
     "output_type": "stream",
     "text": [
      "{'lr': 0.001, 'hidden_layers': (512, 512, 512), 'shapes': 'brick', 'batch_size': 16, 'epochs': 100, 'optimizer': <class 'keras.optimizers.optimizer_v2.adam.Adam'>, 'losses': 'categorical_crossentropy', 'activation': 'relu', 'last_activation': 'softmax', 'dropout_rate': 0.1, 'batch_normalization': False}\n"
     ]
    },
    {
     "name": "stderr",
     "output_type": "stream",
     "text": [
      "\r",
      " 47%|█████████████████▋                    | 40/86 [1:54:28<2:23:27, 187.11s/it]"
     ]
    },
    {
     "name": "stdout",
     "output_type": "stream",
     "text": [
      "{'lr': 0.0001, 'hidden_layers': (256, 256, 256), 'shapes': 'brick', 'batch_size': 32, 'epochs': 100, 'optimizer': <class 'keras.optimizers.optimizer_v2.adam.Adam'>, 'losses': 'categorical_crossentropy', 'activation': 'relu', 'last_activation': 'softmax', 'dropout_rate': 0, 'batch_normalization': False}\n"
     ]
    },
    {
     "name": "stderr",
     "output_type": "stream",
     "text": [
      "\r",
      " 48%|██████████████████                    | 41/86 [1:55:25<1:51:05, 148.11s/it]"
     ]
    },
    {
     "name": "stdout",
     "output_type": "stream",
     "text": [
      "{'lr': 0.001, 'hidden_layers': (512, 512, 512, 512), 'shapes': 'brick', 'batch_size': 8, 'epochs': 100, 'optimizer': <class 'keras.optimizers.optimizer_v2.adam.Adam'>, 'losses': 'categorical_crossentropy', 'activation': 'relu', 'last_activation': 'softmax', 'dropout_rate': 0.1, 'batch_normalization': False}\n"
     ]
    },
    {
     "name": "stderr",
     "output_type": "stream",
     "text": [
      "\r",
      " 49%|██████████████████▌                   | 42/86 [2:02:39<2:51:28, 233.83s/it]"
     ]
    },
    {
     "name": "stdout",
     "output_type": "stream",
     "text": [
      "{'lr': 0.003, 'hidden_layers': (256, 256, 256), 'shapes': 'brick', 'batch_size': 8, 'epochs': 100, 'optimizer': <class 'keras.optimizers.optimizer_v2.adam.Adam'>, 'losses': 'categorical_crossentropy', 'activation': 'relu', 'last_activation': 'softmax', 'dropout_rate': 0.1, 'batch_normalization': True}\n"
     ]
    },
    {
     "name": "stderr",
     "output_type": "stream",
     "text": [
      "\r",
      " 50%|███████████████████                   | 43/86 [2:07:54<3:04:59, 258.13s/it]"
     ]
    },
    {
     "name": "stdout",
     "output_type": "stream",
     "text": [
      "{'lr': 0.001, 'hidden_layers': (256, 256, 256), 'shapes': 'brick', 'batch_size': 32, 'epochs': 100, 'optimizer': <class 'keras.optimizers.optimizer_v2.adam.Adam'>, 'losses': 'categorical_crossentropy', 'activation': 'relu', 'last_activation': 'softmax', 'dropout_rate': 0.1, 'batch_normalization': True}\n"
     ]
    },
    {
     "name": "stderr",
     "output_type": "stream",
     "text": [
      "\r",
      " 51%|███████████████████▍                  | 44/86 [2:09:16<2:23:39, 205.24s/it]"
     ]
    },
    {
     "name": "stdout",
     "output_type": "stream",
     "text": [
      "{'lr': 0.0003, 'hidden_layers': (256, 256, 256, 256), 'shapes': 'brick', 'batch_size': 8, 'epochs': 100, 'optimizer': <class 'keras.optimizers.optimizer_v2.adam.Adam'>, 'losses': 'categorical_crossentropy', 'activation': 'relu', 'last_activation': 'softmax', 'dropout_rate': 0.1, 'batch_normalization': False}\n"
     ]
    },
    {
     "name": "stderr",
     "output_type": "stream",
     "text": [
      "\r",
      " 52%|███████████████████▉                  | 45/86 [2:12:48<2:21:42, 207.37s/it]"
     ]
    },
    {
     "name": "stdout",
     "output_type": "stream",
     "text": [
      "{'lr': 0.003, 'hidden_layers': (256, 256, 256), 'shapes': 'brick', 'batch_size': 8, 'epochs': 100, 'optimizer': <class 'keras.optimizers.optimizer_v2.adam.Adam'>, 'losses': 'categorical_crossentropy', 'activation': 'relu', 'last_activation': 'softmax', 'dropout_rate': 0.2, 'batch_normalization': True}\n"
     ]
    },
    {
     "name": "stderr",
     "output_type": "stream",
     "text": [
      "\r",
      " 53%|████████████████████▎                 | 46/86 [2:16:31<2:21:15, 211.89s/it]"
     ]
    },
    {
     "name": "stdout",
     "output_type": "stream",
     "text": [
      "{'lr': 0.003, 'hidden_layers': (512, 512, 512), 'shapes': 'brick', 'batch_size': 32, 'epochs': 100, 'optimizer': <class 'keras.optimizers.optimizer_v2.adam.Adam'>, 'losses': 'categorical_crossentropy', 'activation': 'relu', 'last_activation': 'softmax', 'dropout_rate': 0.2, 'batch_normalization': False}\n"
     ]
    },
    {
     "name": "stderr",
     "output_type": "stream",
     "text": [
      "\r",
      " 55%|████████████████████▊                 | 47/86 [2:18:18<1:57:19, 180.51s/it]"
     ]
    },
    {
     "name": "stdout",
     "output_type": "stream",
     "text": [
      "{'lr': 0.003, 'hidden_layers': (256, 256, 256, 256), 'shapes': 'brick', 'batch_size': 32, 'epochs': 100, 'optimizer': <class 'keras.optimizers.optimizer_v2.adam.Adam'>, 'losses': 'categorical_crossentropy', 'activation': 'relu', 'last_activation': 'softmax', 'dropout_rate': 0.1, 'batch_normalization': False}\n"
     ]
    },
    {
     "name": "stderr",
     "output_type": "stream",
     "text": [
      "\r",
      " 56%|█████████████████████▏                | 48/86 [2:19:40<1:35:34, 150.90s/it]"
     ]
    },
    {
     "name": "stdout",
     "output_type": "stream",
     "text": [
      "{'lr': 0.001, 'hidden_layers': (512, 512, 512, 512), 'shapes': 'brick', 'batch_size': 8, 'epochs': 100, 'optimizer': <class 'keras.optimizers.optimizer_v2.adam.Adam'>, 'losses': 'categorical_crossentropy', 'activation': 'relu', 'last_activation': 'softmax', 'dropout_rate': 0, 'batch_normalization': True}\n"
     ]
    },
    {
     "name": "stderr",
     "output_type": "stream",
     "text": [
      "\r",
      " 57%|█████████████████████▋                | 49/86 [2:27:28<2:31:42, 246.00s/it]"
     ]
    },
    {
     "name": "stdout",
     "output_type": "stream",
     "text": [
      "{'lr': 0.003, 'hidden_layers': (512, 512, 512), 'shapes': 'brick', 'batch_size': 16, 'epochs': 100, 'optimizer': <class 'keras.optimizers.optimizer_v2.adam.Adam'>, 'losses': 'categorical_crossentropy', 'activation': 'relu', 'last_activation': 'softmax', 'dropout_rate': 0.1, 'batch_normalization': True}\n"
     ]
    },
    {
     "name": "stderr",
     "output_type": "stream",
     "text": [
      "\r",
      " 58%|██████████████████████                | 50/86 [2:32:18<2:35:32, 259.25s/it]"
     ]
    },
    {
     "name": "stdout",
     "output_type": "stream",
     "text": [
      "{'lr': 0.003, 'hidden_layers': (256, 256, 256), 'shapes': 'brick', 'batch_size': 8, 'epochs': 100, 'optimizer': <class 'keras.optimizers.optimizer_v2.adam.Adam'>, 'losses': 'categorical_crossentropy', 'activation': 'relu', 'last_activation': 'softmax', 'dropout_rate': 0.2, 'batch_normalization': False}\n"
     ]
    },
    {
     "name": "stderr",
     "output_type": "stream",
     "text": [
      "\r",
      " 59%|██████████████████████▌               | 51/86 [2:35:25<2:18:35, 237.59s/it]"
     ]
    },
    {
     "name": "stdout",
     "output_type": "stream",
     "text": [
      "{'lr': 0.001, 'hidden_layers': (256, 256, 256), 'shapes': 'brick', 'batch_size': 16, 'epochs': 100, 'optimizer': <class 'keras.optimizers.optimizer_v2.adam.Adam'>, 'losses': 'categorical_crossentropy', 'activation': 'relu', 'last_activation': 'softmax', 'dropout_rate': 0.2, 'batch_normalization': True}\n"
     ]
    },
    {
     "name": "stderr",
     "output_type": "stream",
     "text": [
      "\r",
      " 60%|██████████████████████▉               | 52/86 [2:38:36<2:06:47, 223.76s/it]"
     ]
    },
    {
     "name": "stdout",
     "output_type": "stream",
     "text": [
      "{'lr': 0.003, 'hidden_layers': (256, 256, 256), 'shapes': 'brick', 'batch_size': 16, 'epochs': 100, 'optimizer': <class 'keras.optimizers.optimizer_v2.adam.Adam'>, 'losses': 'categorical_crossentropy', 'activation': 'relu', 'last_activation': 'softmax', 'dropout_rate': 0, 'batch_normalization': False}\n"
     ]
    },
    {
     "name": "stderr",
     "output_type": "stream",
     "text": [
      "\r",
      " 62%|███████████████████████▍              | 53/86 [2:40:14<1:42:11, 185.82s/it]"
     ]
    },
    {
     "name": "stdout",
     "output_type": "stream",
     "text": [
      "{'lr': 0.001, 'hidden_layers': (256, 256, 256, 256), 'shapes': 'brick', 'batch_size': 32, 'epochs': 100, 'optimizer': <class 'keras.optimizers.optimizer_v2.adam.Adam'>, 'losses': 'categorical_crossentropy', 'activation': 'relu', 'last_activation': 'softmax', 'dropout_rate': 0.1, 'batch_normalization': False}\n"
     ]
    },
    {
     "name": "stderr",
     "output_type": "stream",
     "text": [
      "\r",
      " 63%|███████████████████████▊              | 54/86 [2:41:38<1:22:53, 155.41s/it]"
     ]
    },
    {
     "name": "stdout",
     "output_type": "stream",
     "text": [
      "{'lr': 0.0003, 'hidden_layers': (256, 256), 'shapes': 'brick', 'batch_size': 32, 'epochs': 100, 'optimizer': <class 'keras.optimizers.optimizer_v2.adam.Adam'>, 'losses': 'categorical_crossentropy', 'activation': 'relu', 'last_activation': 'softmax', 'dropout_rate': 0.2, 'batch_normalization': True}\n"
     ]
    },
    {
     "name": "stderr",
     "output_type": "stream",
     "text": [
      "\r",
      " 64%|████████████████████████▎             | 55/86 [2:42:45<1:06:33, 128.84s/it]"
     ]
    },
    {
     "name": "stdout",
     "output_type": "stream",
     "text": [
      "{'lr': 0.003, 'hidden_layers': (256, 256, 256, 256), 'shapes': 'brick', 'batch_size': 32, 'epochs': 100, 'optimizer': <class 'keras.optimizers.optimizer_v2.adam.Adam'>, 'losses': 'categorical_crossentropy', 'activation': 'relu', 'last_activation': 'softmax', 'dropout_rate': 0.1, 'batch_normalization': True}\n"
     ]
    },
    {
     "name": "stderr",
     "output_type": "stream",
     "text": [
      "\r",
      " 65%|██████████████████████████              | 56/86 [2:44:14<58:31, 117.04s/it]"
     ]
    },
    {
     "name": "stdout",
     "output_type": "stream",
     "text": [
      "{'lr': 0.0001, 'hidden_layers': (512, 512, 512), 'shapes': 'brick', 'batch_size': 8, 'epochs': 100, 'optimizer': <class 'keras.optimizers.optimizer_v2.adam.Adam'>, 'losses': 'categorical_crossentropy', 'activation': 'relu', 'last_activation': 'softmax', 'dropout_rate': 0.2, 'batch_normalization': False}\n"
     ]
    },
    {
     "name": "stderr",
     "output_type": "stream",
     "text": [
      "\r",
      " 66%|█████████████████████████▏            | 57/86 [2:48:01<1:12:30, 150.03s/it]"
     ]
    },
    {
     "name": "stdout",
     "output_type": "stream",
     "text": [
      "{'lr': 0.0003, 'hidden_layers': (512, 512, 512), 'shapes': 'brick', 'batch_size': 8, 'epochs': 100, 'optimizer': <class 'keras.optimizers.optimizer_v2.adam.Adam'>, 'losses': 'categorical_crossentropy', 'activation': 'relu', 'last_activation': 'softmax', 'dropout_rate': 0.1, 'batch_normalization': True}\n"
     ]
    },
    {
     "name": "stderr",
     "output_type": "stream",
     "text": [
      "\r",
      " 67%|█████████████████████████▋            | 58/86 [2:54:52<1:46:30, 228.24s/it]"
     ]
    },
    {
     "name": "stdout",
     "output_type": "stream",
     "text": [
      "{'lr': 0.0001, 'hidden_layers': (256, 256), 'shapes': 'brick', 'batch_size': 16, 'epochs': 100, 'optimizer': <class 'keras.optimizers.optimizer_v2.adam.Adam'>, 'losses': 'categorical_crossentropy', 'activation': 'relu', 'last_activation': 'softmax', 'dropout_rate': 0, 'batch_normalization': True}\n"
     ]
    },
    {
     "name": "stderr",
     "output_type": "stream",
     "text": [
      "\r",
      " 69%|██████████████████████████            | 59/86 [2:56:36<1:25:55, 190.93s/it]"
     ]
    },
    {
     "name": "stdout",
     "output_type": "stream",
     "text": [
      "{'lr': 0.001, 'hidden_layers': (256, 256), 'shapes': 'brick', 'batch_size': 32, 'epochs': 100, 'optimizer': <class 'keras.optimizers.optimizer_v2.adam.Adam'>, 'losses': 'categorical_crossentropy', 'activation': 'relu', 'last_activation': 'softmax', 'dropout_rate': 0, 'batch_normalization': True}\n"
     ]
    },
    {
     "name": "stderr",
     "output_type": "stream",
     "text": [
      "\r",
      " 70%|██████████████████████████▌           | 60/86 [2:57:34<1:05:28, 151.11s/it]"
     ]
    },
    {
     "name": "stdout",
     "output_type": "stream",
     "text": [
      "{'lr': 0.003, 'hidden_layers': (512, 512, 512), 'shapes': 'brick', 'batch_size': 32, 'epochs': 100, 'optimizer': <class 'keras.optimizers.optimizer_v2.adam.Adam'>, 'losses': 'categorical_crossentropy', 'activation': 'relu', 'last_activation': 'softmax', 'dropout_rate': 0.1, 'batch_normalization': False}\n"
     ]
    },
    {
     "name": "stderr",
     "output_type": "stream",
     "text": [
      "\r",
      " 71%|████████████████████████████▎           | 61/86 [2:58:57<54:23, 130.52s/it]"
     ]
    },
    {
     "name": "stdout",
     "output_type": "stream",
     "text": [
      "{'lr': 0.001, 'hidden_layers': (512, 512, 512), 'shapes': 'brick', 'batch_size': 8, 'epochs': 100, 'optimizer': <class 'keras.optimizers.optimizer_v2.adam.Adam'>, 'losses': 'categorical_crossentropy', 'activation': 'relu', 'last_activation': 'softmax', 'dropout_rate': 0.2, 'batch_normalization': False}\n"
     ]
    },
    {
     "name": "stderr",
     "output_type": "stream",
     "text": [
      "\r",
      " 72%|███████████████████████████▍          | 62/86 [3:02:25<1:01:34, 153.94s/it]"
     ]
    },
    {
     "name": "stdout",
     "output_type": "stream",
     "text": [
      "{'lr': 0.001, 'hidden_layers': (512, 512, 512), 'shapes': 'brick', 'batch_size': 16, 'epochs': 100, 'optimizer': <class 'keras.optimizers.optimizer_v2.adam.Adam'>, 'losses': 'categorical_crossentropy', 'activation': 'relu', 'last_activation': 'softmax', 'dropout_rate': 0, 'batch_normalization': True}\n"
     ]
    },
    {
     "name": "stderr",
     "output_type": "stream",
     "text": [
      "\r",
      " 73%|█████████████████████████████▎          | 63/86 [3:05:03<59:24, 154.97s/it]"
     ]
    },
    {
     "name": "stdout",
     "output_type": "stream",
     "text": [
      "{'lr': 0.0003, 'hidden_layers': (512, 512, 512), 'shapes': 'brick', 'batch_size': 32, 'epochs': 100, 'optimizer': <class 'keras.optimizers.optimizer_v2.adam.Adam'>, 'losses': 'categorical_crossentropy', 'activation': 'relu', 'last_activation': 'softmax', 'dropout_rate': 0.2, 'batch_normalization': False}\n"
     ]
    },
    {
     "name": "stderr",
     "output_type": "stream",
     "text": [
      "\r",
      " 74%|█████████████████████████████▊          | 64/86 [3:06:39<50:21, 137.34s/it]"
     ]
    },
    {
     "name": "stdout",
     "output_type": "stream",
     "text": [
      "{'lr': 0.001, 'hidden_layers': (256, 256, 256, 256), 'shapes': 'brick', 'batch_size': 16, 'epochs': 100, 'optimizer': <class 'keras.optimizers.optimizer_v2.adam.Adam'>, 'losses': 'categorical_crossentropy', 'activation': 'relu', 'last_activation': 'softmax', 'dropout_rate': 0, 'batch_normalization': True}\n"
     ]
    },
    {
     "name": "stderr",
     "output_type": "stream",
     "text": [
      "\r",
      " 76%|██████████████████████████████▏         | 65/86 [3:09:33<51:54, 148.31s/it]"
     ]
    },
    {
     "name": "stdout",
     "output_type": "stream",
     "text": [
      "{'lr': 0.0003, 'hidden_layers': (512, 512, 512), 'shapes': 'brick', 'batch_size': 32, 'epochs': 100, 'optimizer': <class 'keras.optimizers.optimizer_v2.adam.Adam'>, 'losses': 'categorical_crossentropy', 'activation': 'relu', 'last_activation': 'softmax', 'dropout_rate': 0.2, 'batch_normalization': True}\n"
     ]
    },
    {
     "name": "stderr",
     "output_type": "stream",
     "text": [
      "\r",
      " 77%|██████████████████████████████▋         | 66/86 [3:11:24<45:45, 137.29s/it]"
     ]
    },
    {
     "name": "stdout",
     "output_type": "stream",
     "text": [
      "{'lr': 0.0003, 'hidden_layers': (512, 512), 'shapes': 'brick', 'batch_size': 16, 'epochs': 100, 'optimizer': <class 'keras.optimizers.optimizer_v2.adam.Adam'>, 'losses': 'categorical_crossentropy', 'activation': 'relu', 'last_activation': 'softmax', 'dropout_rate': 0.2, 'batch_normalization': False}\n"
     ]
    },
    {
     "name": "stderr",
     "output_type": "stream",
     "text": [
      "\r",
      " 78%|███████████████████████████████▏        | 67/86 [3:13:14<40:53, 129.11s/it]"
     ]
    },
    {
     "name": "stdout",
     "output_type": "stream",
     "text": [
      "{'lr': 0.003, 'hidden_layers': (256, 256, 256, 256), 'shapes': 'brick', 'batch_size': 16, 'epochs': 100, 'optimizer': <class 'keras.optimizers.optimizer_v2.adam.Adam'>, 'losses': 'categorical_crossentropy', 'activation': 'relu', 'last_activation': 'softmax', 'dropout_rate': 0.1, 'batch_normalization': False}\n"
     ]
    },
    {
     "name": "stderr",
     "output_type": "stream",
     "text": [
      "\r",
      " 79%|███████████████████████████████▋        | 68/86 [3:14:35<34:20, 114.49s/it]"
     ]
    },
    {
     "name": "stdout",
     "output_type": "stream",
     "text": [
      "{'lr': 0.0003, 'hidden_layers': (256, 256, 256), 'shapes': 'brick', 'batch_size': 8, 'epochs': 100, 'optimizer': <class 'keras.optimizers.optimizer_v2.adam.Adam'>, 'losses': 'categorical_crossentropy', 'activation': 'relu', 'last_activation': 'softmax', 'dropout_rate': 0.2, 'batch_normalization': True}\n"
     ]
    },
    {
     "name": "stderr",
     "output_type": "stream",
     "text": [
      "\r",
      " 80%|████████████████████████████████        | 69/86 [3:18:01<40:11, 141.87s/it]"
     ]
    },
    {
     "name": "stdout",
     "output_type": "stream",
     "text": [
      "{'lr': 0.0001, 'hidden_layers': (256, 256, 256, 256), 'shapes': 'brick', 'batch_size': 32, 'epochs': 100, 'optimizer': <class 'keras.optimizers.optimizer_v2.adam.Adam'>, 'losses': 'categorical_crossentropy', 'activation': 'relu', 'last_activation': 'softmax', 'dropout_rate': 0.2, 'batch_normalization': True}\n"
     ]
    },
    {
     "name": "stderr",
     "output_type": "stream",
     "text": [
      "\r",
      " 81%|████████████████████████████████▌       | 70/86 [3:19:44<34:44, 130.31s/it]"
     ]
    },
    {
     "name": "stdout",
     "output_type": "stream",
     "text": [
      "{'lr': 0.001, 'hidden_layers': (512, 512, 512), 'shapes': 'brick', 'batch_size': 8, 'epochs': 100, 'optimizer': <class 'keras.optimizers.optimizer_v2.adam.Adam'>, 'losses': 'categorical_crossentropy', 'activation': 'relu', 'last_activation': 'softmax', 'dropout_rate': 0.1, 'batch_normalization': False}\n"
     ]
    },
    {
     "name": "stderr",
     "output_type": "stream",
     "text": [
      "\r",
      " 83%|█████████████████████████████████       | 71/86 [3:23:40<40:30, 162.02s/it]"
     ]
    },
    {
     "name": "stdout",
     "output_type": "stream",
     "text": [
      "{'lr': 0.0001, 'hidden_layers': (512, 512), 'shapes': 'brick', 'batch_size': 16, 'epochs': 100, 'optimizer': <class 'keras.optimizers.optimizer_v2.adam.Adam'>, 'losses': 'categorical_crossentropy', 'activation': 'relu', 'last_activation': 'softmax', 'dropout_rate': 0, 'batch_normalization': False}\n"
     ]
    },
    {
     "name": "stderr",
     "output_type": "stream",
     "text": [
      "\r",
      " 84%|█████████████████████████████████▍      | 72/86 [3:25:36<34:33, 148.12s/it]"
     ]
    },
    {
     "name": "stdout",
     "output_type": "stream",
     "text": [
      "{'lr': 0.0003, 'hidden_layers': (512, 512), 'shapes': 'brick', 'batch_size': 8, 'epochs': 100, 'optimizer': <class 'keras.optimizers.optimizer_v2.adam.Adam'>, 'losses': 'categorical_crossentropy', 'activation': 'relu', 'last_activation': 'softmax', 'dropout_rate': 0.2, 'batch_normalization': True}\n"
     ]
    },
    {
     "name": "stderr",
     "output_type": "stream",
     "text": [
      "\r",
      " 85%|█████████████████████████████████▉      | 73/86 [3:29:10<36:22, 167.91s/it]"
     ]
    },
    {
     "name": "stdout",
     "output_type": "stream",
     "text": [
      "{'lr': 0.0003, 'hidden_layers': (256, 256), 'shapes': 'brick', 'batch_size': 8, 'epochs': 100, 'optimizer': <class 'keras.optimizers.optimizer_v2.adam.Adam'>, 'losses': 'categorical_crossentropy', 'activation': 'relu', 'last_activation': 'softmax', 'dropout_rate': 0, 'batch_normalization': True}\n"
     ]
    },
    {
     "name": "stderr",
     "output_type": "stream",
     "text": [
      "\r",
      " 86%|██████████████████████████████████▍     | 74/86 [3:33:05<37:38, 188.24s/it]"
     ]
    },
    {
     "name": "stdout",
     "output_type": "stream",
     "text": [
      "{'lr': 0.001, 'hidden_layers': (512, 512), 'shapes': 'brick', 'batch_size': 16, 'epochs': 100, 'optimizer': <class 'keras.optimizers.optimizer_v2.adam.Adam'>, 'losses': 'categorical_crossentropy', 'activation': 'relu', 'last_activation': 'softmax', 'dropout_rate': 0.2, 'batch_normalization': False}\n"
     ]
    },
    {
     "name": "stderr",
     "output_type": "stream",
     "text": [
      "\r",
      " 87%|██████████████████████████████████▉     | 75/86 [3:34:52<30:02, 163.91s/it]"
     ]
    },
    {
     "name": "stdout",
     "output_type": "stream",
     "text": [
      "{'lr': 0.003, 'hidden_layers': (512, 512, 512), 'shapes': 'brick', 'batch_size': 8, 'epochs': 100, 'optimizer': <class 'keras.optimizers.optimizer_v2.adam.Adam'>, 'losses': 'categorical_crossentropy', 'activation': 'relu', 'last_activation': 'softmax', 'dropout_rate': 0.1, 'batch_normalization': True}\n"
     ]
    },
    {
     "name": "stderr",
     "output_type": "stream",
     "text": [
      "\r",
      " 88%|███████████████████████████████████▎    | 76/86 [3:40:04<34:42, 208.30s/it]"
     ]
    },
    {
     "name": "stdout",
     "output_type": "stream",
     "text": [
      "{'lr': 0.0001, 'hidden_layers': (256, 256, 256, 256), 'shapes': 'brick', 'batch_size': 32, 'epochs': 100, 'optimizer': <class 'keras.optimizers.optimizer_v2.adam.Adam'>, 'losses': 'categorical_crossentropy', 'activation': 'relu', 'last_activation': 'softmax', 'dropout_rate': 0.1, 'batch_normalization': True}\n"
     ]
    },
    {
     "name": "stderr",
     "output_type": "stream",
     "text": [
      "\r",
      " 90%|███████████████████████████████████▊    | 77/86 [3:41:39<26:08, 174.28s/it]"
     ]
    },
    {
     "name": "stdout",
     "output_type": "stream",
     "text": [
      "{'lr': 0.003, 'hidden_layers': (512, 512, 512), 'shapes': 'brick', 'batch_size': 8, 'epochs': 100, 'optimizer': <class 'keras.optimizers.optimizer_v2.adam.Adam'>, 'losses': 'categorical_crossentropy', 'activation': 'relu', 'last_activation': 'softmax', 'dropout_rate': 0.2, 'batch_normalization': True}\n"
     ]
    },
    {
     "name": "stderr",
     "output_type": "stream",
     "text": [
      "\r",
      " 91%|████████████████████████████████████▎   | 78/86 [3:46:54<28:50, 216.35s/it]"
     ]
    },
    {
     "name": "stdout",
     "output_type": "stream",
     "text": [
      "{'lr': 0.003, 'hidden_layers': (512, 512), 'shapes': 'brick', 'batch_size': 32, 'epochs': 100, 'optimizer': <class 'keras.optimizers.optimizer_v2.adam.Adam'>, 'losses': 'categorical_crossentropy', 'activation': 'relu', 'last_activation': 'softmax', 'dropout_rate': 0.1, 'batch_normalization': True}\n"
     ]
    },
    {
     "name": "stderr",
     "output_type": "stream",
     "text": [
      "\r",
      " 92%|████████████████████████████████████▋   | 79/86 [3:48:26<20:53, 179.02s/it]"
     ]
    },
    {
     "name": "stdout",
     "output_type": "stream",
     "text": [
      "{'lr': 0.0003, 'hidden_layers': (512, 512, 512), 'shapes': 'brick', 'batch_size': 8, 'epochs': 100, 'optimizer': <class 'keras.optimizers.optimizer_v2.adam.Adam'>, 'losses': 'categorical_crossentropy', 'activation': 'relu', 'last_activation': 'softmax', 'dropout_rate': 0.2, 'batch_normalization': False}\n"
     ]
    },
    {
     "name": "stderr",
     "output_type": "stream",
     "text": [
      "\r",
      " 93%|█████████████████████████████████████▏  | 80/86 [3:51:53<18:45, 187.55s/it]"
     ]
    },
    {
     "name": "stdout",
     "output_type": "stream",
     "text": [
      "{'lr': 0.0003, 'hidden_layers': (512, 512), 'shapes': 'brick', 'batch_size': 16, 'epochs': 100, 'optimizer': <class 'keras.optimizers.optimizer_v2.adam.Adam'>, 'losses': 'categorical_crossentropy', 'activation': 'relu', 'last_activation': 'softmax', 'dropout_rate': 0, 'batch_normalization': True}\n"
     ]
    },
    {
     "name": "stderr",
     "output_type": "stream",
     "text": [
      "\r",
      " 94%|█████████████████████████████████████▋  | 81/86 [3:54:01<14:08, 169.63s/it]"
     ]
    },
    {
     "name": "stdout",
     "output_type": "stream",
     "text": [
      "{'lr': 0.003, 'hidden_layers': (256, 256, 256, 256), 'shapes': 'brick', 'batch_size': 16, 'epochs': 100, 'optimizer': <class 'keras.optimizers.optimizer_v2.adam.Adam'>, 'losses': 'categorical_crossentropy', 'activation': 'relu', 'last_activation': 'softmax', 'dropout_rate': 0, 'batch_normalization': True}\n"
     ]
    },
    {
     "name": "stderr",
     "output_type": "stream",
     "text": [
      "\r",
      " 95%|██████████████████████████████████████▏ | 82/86 [3:56:17<10:37, 159.49s/it]"
     ]
    },
    {
     "name": "stdout",
     "output_type": "stream",
     "text": [
      "{'lr': 0.0001, 'hidden_layers': (512, 512), 'shapes': 'brick', 'batch_size': 32, 'epochs': 100, 'optimizer': <class 'keras.optimizers.optimizer_v2.adam.Adam'>, 'losses': 'categorical_crossentropy', 'activation': 'relu', 'last_activation': 'softmax', 'dropout_rate': 0.1, 'batch_normalization': True}\n"
     ]
    },
    {
     "name": "stderr",
     "output_type": "stream",
     "text": [
      "\r",
      " 97%|██████████████████████████████████████▌ | 83/86 [3:57:46<06:54, 138.30s/it]"
     ]
    },
    {
     "name": "stdout",
     "output_type": "stream",
     "text": [
      "{'lr': 0.0001, 'hidden_layers': (512, 512, 512), 'shapes': 'brick', 'batch_size': 16, 'epochs': 100, 'optimizer': <class 'keras.optimizers.optimizer_v2.adam.Adam'>, 'losses': 'categorical_crossentropy', 'activation': 'relu', 'last_activation': 'softmax', 'dropout_rate': 0.2, 'batch_normalization': True}\n"
     ]
    },
    {
     "name": "stderr",
     "output_type": "stream",
     "text": [
      "\r",
      " 98%|███████████████████████████████████████ | 84/86 [4:00:41<04:59, 149.53s/it]"
     ]
    },
    {
     "name": "stdout",
     "output_type": "stream",
     "text": [
      "{'lr': 0.0001, 'hidden_layers': (256, 256), 'shapes': 'brick', 'batch_size': 8, 'epochs': 100, 'optimizer': <class 'keras.optimizers.optimizer_v2.adam.Adam'>, 'losses': 'categorical_crossentropy', 'activation': 'relu', 'last_activation': 'softmax', 'dropout_rate': 0.2, 'batch_normalization': False}\n"
     ]
    },
    {
     "name": "stderr",
     "output_type": "stream",
     "text": [
      "\r",
      " 99%|███████████████████████████████████████▌| 85/86 [4:02:47<02:22, 142.40s/it]"
     ]
    },
    {
     "name": "stdout",
     "output_type": "stream",
     "text": [
      "{'lr': 0.0001, 'hidden_layers': (512, 512, 512), 'shapes': 'brick', 'batch_size': 8, 'epochs': 100, 'optimizer': <class 'keras.optimizers.optimizer_v2.adam.Adam'>, 'losses': 'categorical_crossentropy', 'activation': 'relu', 'last_activation': 'softmax', 'dropout_rate': 0.1, 'batch_normalization': True}\n"
     ]
    },
    {
     "name": "stderr",
     "output_type": "stream",
     "text": [
      "100%|████████████████████████████████████████| 86/86 [4:08:03<00:00, 173.06s/it]\n"
     ]
    }
   ],
   "source": [
    "# Run hyperparameters space scan using random search\n",
    "scan_object = talos.Scan(X_train_tr, \n",
    "                         y_train, \n",
    "                         params_space, \n",
    "                         mnist_dense_model, \n",
    "                         \"mnist\", \n",
    "                         X_valid_tr, \n",
    "                         y_valid, \n",
    "                         print_params=True, \n",
    "                         fraction_limit=0.2)"
   ]
  },
  {
   "cell_type": "code",
   "execution_count": 84,
   "id": "ba3cb896",
   "metadata": {},
   "outputs": [],
   "source": [
    "# Extract experiment data\n",
    "exp_data = scan_object.data[['val_accuracy', 'val_loss', 'hidden_layers', 'batch_size', \n",
    "                             'lr', 'dropout_rate', 'batch_normalization']]"
   ]
  },
  {
   "cell_type": "code",
   "execution_count": 85,
   "id": "185fcaed",
   "metadata": {
    "scrolled": true
   },
   "outputs": [
    {
     "data": {
      "text/html": [
       "<div>\n",
       "<style scoped>\n",
       "    .dataframe tbody tr th:only-of-type {\n",
       "        vertical-align: middle;\n",
       "    }\n",
       "\n",
       "    .dataframe tbody tr th {\n",
       "        vertical-align: top;\n",
       "    }\n",
       "\n",
       "    .dataframe thead th {\n",
       "        text-align: right;\n",
       "    }\n",
       "</style>\n",
       "<table border=\"1\" class=\"dataframe\">\n",
       "  <thead>\n",
       "    <tr style=\"text-align: right;\">\n",
       "      <th></th>\n",
       "      <th>val_accuracy</th>\n",
       "      <th>val_loss</th>\n",
       "      <th>hidden_layers</th>\n",
       "      <th>batch_size</th>\n",
       "      <th>lr</th>\n",
       "      <th>dropout_rate</th>\n",
       "      <th>batch_normalization</th>\n",
       "    </tr>\n",
       "  </thead>\n",
       "  <tbody>\n",
       "    <tr>\n",
       "      <th>55</th>\n",
       "      <td>0.981583</td>\n",
       "      <td>0.113751</td>\n",
       "      <td>(256, 256, 256, 256)</td>\n",
       "      <td>32</td>\n",
       "      <td>0.0030</td>\n",
       "      <td>0.1</td>\n",
       "      <td>True</td>\n",
       "    </tr>\n",
       "    <tr>\n",
       "      <th>4</th>\n",
       "      <td>0.981333</td>\n",
       "      <td>0.111182</td>\n",
       "      <td>(256, 256, 256)</td>\n",
       "      <td>32</td>\n",
       "      <td>0.0010</td>\n",
       "      <td>0.0</td>\n",
       "      <td>True</td>\n",
       "    </tr>\n",
       "    <tr>\n",
       "      <th>51</th>\n",
       "      <td>0.981083</td>\n",
       "      <td>0.136872</td>\n",
       "      <td>(256, 256, 256)</td>\n",
       "      <td>16</td>\n",
       "      <td>0.0010</td>\n",
       "      <td>0.2</td>\n",
       "      <td>True</td>\n",
       "    </tr>\n",
       "    <tr>\n",
       "      <th>26</th>\n",
       "      <td>0.979917</td>\n",
       "      <td>0.130991</td>\n",
       "      <td>(256, 256, 256, 256)</td>\n",
       "      <td>32</td>\n",
       "      <td>0.0030</td>\n",
       "      <td>0.0</td>\n",
       "      <td>True</td>\n",
       "    </tr>\n",
       "    <tr>\n",
       "      <th>36</th>\n",
       "      <td>0.979833</td>\n",
       "      <td>0.138479</td>\n",
       "      <td>(512, 512, 512)</td>\n",
       "      <td>16</td>\n",
       "      <td>0.0003</td>\n",
       "      <td>0.1</td>\n",
       "      <td>True</td>\n",
       "    </tr>\n",
       "    <tr>\n",
       "      <th>7</th>\n",
       "      <td>0.979833</td>\n",
       "      <td>0.130777</td>\n",
       "      <td>(512, 512, 512, 512)</td>\n",
       "      <td>32</td>\n",
       "      <td>0.0030</td>\n",
       "      <td>0.2</td>\n",
       "      <td>True</td>\n",
       "    </tr>\n",
       "    <tr>\n",
       "      <th>65</th>\n",
       "      <td>0.979833</td>\n",
       "      <td>0.142738</td>\n",
       "      <td>(512, 512, 512)</td>\n",
       "      <td>32</td>\n",
       "      <td>0.0003</td>\n",
       "      <td>0.2</td>\n",
       "      <td>True</td>\n",
       "    </tr>\n",
       "    <tr>\n",
       "      <th>64</th>\n",
       "      <td>0.979750</td>\n",
       "      <td>0.152722</td>\n",
       "      <td>(256, 256, 256, 256)</td>\n",
       "      <td>16</td>\n",
       "      <td>0.0010</td>\n",
       "      <td>0.0</td>\n",
       "      <td>True</td>\n",
       "    </tr>\n",
       "    <tr>\n",
       "      <th>27</th>\n",
       "      <td>0.978500</td>\n",
       "      <td>0.135326</td>\n",
       "      <td>(256, 256, 256, 256)</td>\n",
       "      <td>32</td>\n",
       "      <td>0.0003</td>\n",
       "      <td>0.0</td>\n",
       "      <td>False</td>\n",
       "    </tr>\n",
       "    <tr>\n",
       "      <th>38</th>\n",
       "      <td>0.978500</td>\n",
       "      <td>0.150524</td>\n",
       "      <td>(256, 256)</td>\n",
       "      <td>32</td>\n",
       "      <td>0.0030</td>\n",
       "      <td>0.1</td>\n",
       "      <td>True</td>\n",
       "    </tr>\n",
       "  </tbody>\n",
       "</table>\n",
       "</div>"
      ],
      "text/plain": [
       "    val_accuracy  val_loss         hidden_layers  batch_size      lr  \\\n",
       "55      0.981583  0.113751  (256, 256, 256, 256)          32  0.0030   \n",
       "4       0.981333  0.111182       (256, 256, 256)          32  0.0010   \n",
       "51      0.981083  0.136872       (256, 256, 256)          16  0.0010   \n",
       "26      0.979917  0.130991  (256, 256, 256, 256)          32  0.0030   \n",
       "36      0.979833  0.138479       (512, 512, 512)          16  0.0003   \n",
       "7       0.979833  0.130777  (512, 512, 512, 512)          32  0.0030   \n",
       "65      0.979833  0.142738       (512, 512, 512)          32  0.0003   \n",
       "64      0.979750  0.152722  (256, 256, 256, 256)          16  0.0010   \n",
       "27      0.978500  0.135326  (256, 256, 256, 256)          32  0.0003   \n",
       "38      0.978500  0.150524            (256, 256)          32  0.0030   \n",
       "\n",
       "    dropout_rate  batch_normalization  \n",
       "55           0.1                 True  \n",
       "4            0.0                 True  \n",
       "51           0.2                 True  \n",
       "26           0.0                 True  \n",
       "36           0.1                 True  \n",
       "7            0.2                 True  \n",
       "65           0.2                 True  \n",
       "64           0.0                 True  \n",
       "27           0.0                False  \n",
       "38           0.1                 True  "
      ]
     },
     "execution_count": 85,
     "metadata": {},
     "output_type": "execute_result"
    }
   ],
   "source": [
    "# Inspect top 10 models\n",
    "exp_data.sort_values('val_accuracy', ascending=False).head(10)"
   ]
  },
  {
   "cell_type": "markdown",
   "id": "88281fce",
   "metadata": {},
   "source": [
    "Results indicate that best models almost always include batch normalization and use 3/4 layers of size 256/512. Larger batch sizes seems to perform better. Learning rate varies but none of top models uses lowest value (0.0001)."
   ]
  },
  {
   "cell_type": "code",
   "execution_count": 81,
   "id": "5be74f25",
   "metadata": {},
   "outputs": [
    {
     "data": {
      "text/html": [
       "<div>\n",
       "<style scoped>\n",
       "    .dataframe tbody tr th:only-of-type {\n",
       "        vertical-align: middle;\n",
       "    }\n",
       "\n",
       "    .dataframe tbody tr th {\n",
       "        vertical-align: top;\n",
       "    }\n",
       "\n",
       "    .dataframe thead th {\n",
       "        text-align: right;\n",
       "    }\n",
       "</style>\n",
       "<table border=\"1\" class=\"dataframe\">\n",
       "  <thead>\n",
       "    <tr style=\"text-align: right;\">\n",
       "      <th></th>\n",
       "      <th>val_accuracy</th>\n",
       "      <th>val_loss</th>\n",
       "      <th>hidden_layers</th>\n",
       "      <th>batch_size</th>\n",
       "      <th>lr</th>\n",
       "      <th>dropout_rate</th>\n",
       "      <th>batch_normalization</th>\n",
       "    </tr>\n",
       "  </thead>\n",
       "  <tbody>\n",
       "    <tr>\n",
       "      <th>50</th>\n",
       "      <td>0.823333</td>\n",
       "      <td>1.329562</td>\n",
       "      <td>(256, 256, 256)</td>\n",
       "      <td>8</td>\n",
       "      <td>0.003</td>\n",
       "      <td>0.2</td>\n",
       "      <td>False</td>\n",
       "    </tr>\n",
       "    <tr>\n",
       "      <th>12</th>\n",
       "      <td>0.888333</td>\n",
       "      <td>1.218413</td>\n",
       "      <td>(512, 512)</td>\n",
       "      <td>8</td>\n",
       "      <td>0.003</td>\n",
       "      <td>0.1</td>\n",
       "      <td>False</td>\n",
       "    </tr>\n",
       "    <tr>\n",
       "      <th>32</th>\n",
       "      <td>0.905167</td>\n",
       "      <td>0.411715</td>\n",
       "      <td>(512, 512)</td>\n",
       "      <td>8</td>\n",
       "      <td>0.003</td>\n",
       "      <td>0.0</td>\n",
       "      <td>False</td>\n",
       "    </tr>\n",
       "    <tr>\n",
       "      <th>18</th>\n",
       "      <td>0.916583</td>\n",
       "      <td>0.472727</td>\n",
       "      <td>(512, 512, 512, 512)</td>\n",
       "      <td>16</td>\n",
       "      <td>0.003</td>\n",
       "      <td>0.1</td>\n",
       "      <td>False</td>\n",
       "    </tr>\n",
       "    <tr>\n",
       "      <th>46</th>\n",
       "      <td>0.938917</td>\n",
       "      <td>0.342228</td>\n",
       "      <td>(512, 512, 512)</td>\n",
       "      <td>32</td>\n",
       "      <td>0.003</td>\n",
       "      <td>0.2</td>\n",
       "      <td>False</td>\n",
       "    </tr>\n",
       "    <tr>\n",
       "      <th>67</th>\n",
       "      <td>0.942250</td>\n",
       "      <td>0.302969</td>\n",
       "      <td>(256, 256, 256, 256)</td>\n",
       "      <td>16</td>\n",
       "      <td>0.003</td>\n",
       "      <td>0.1</td>\n",
       "      <td>False</td>\n",
       "    </tr>\n",
       "    <tr>\n",
       "      <th>52</th>\n",
       "      <td>0.945417</td>\n",
       "      <td>0.449040</td>\n",
       "      <td>(256, 256, 256)</td>\n",
       "      <td>16</td>\n",
       "      <td>0.003</td>\n",
       "      <td>0.0</td>\n",
       "      <td>False</td>\n",
       "    </tr>\n",
       "    <tr>\n",
       "      <th>11</th>\n",
       "      <td>0.954750</td>\n",
       "      <td>0.483098</td>\n",
       "      <td>(256, 256)</td>\n",
       "      <td>16</td>\n",
       "      <td>0.003</td>\n",
       "      <td>0.0</td>\n",
       "      <td>False</td>\n",
       "    </tr>\n",
       "    <tr>\n",
       "      <th>77</th>\n",
       "      <td>0.956667</td>\n",
       "      <td>6.371877</td>\n",
       "      <td>(512, 512, 512)</td>\n",
       "      <td>8</td>\n",
       "      <td>0.003</td>\n",
       "      <td>0.2</td>\n",
       "      <td>True</td>\n",
       "    </tr>\n",
       "    <tr>\n",
       "      <th>41</th>\n",
       "      <td>0.957333</td>\n",
       "      <td>0.238581</td>\n",
       "      <td>(512, 512, 512, 512)</td>\n",
       "      <td>8</td>\n",
       "      <td>0.001</td>\n",
       "      <td>0.1</td>\n",
       "      <td>False</td>\n",
       "    </tr>\n",
       "  </tbody>\n",
       "</table>\n",
       "</div>"
      ],
      "text/plain": [
       "    val_accuracy  val_loss         hidden_layers  batch_size     lr  \\\n",
       "50      0.823333  1.329562       (256, 256, 256)           8  0.003   \n",
       "12      0.888333  1.218413            (512, 512)           8  0.003   \n",
       "32      0.905167  0.411715            (512, 512)           8  0.003   \n",
       "18      0.916583  0.472727  (512, 512, 512, 512)          16  0.003   \n",
       "46      0.938917  0.342228       (512, 512, 512)          32  0.003   \n",
       "67      0.942250  0.302969  (256, 256, 256, 256)          16  0.003   \n",
       "52      0.945417  0.449040       (256, 256, 256)          16  0.003   \n",
       "11      0.954750  0.483098            (256, 256)          16  0.003   \n",
       "77      0.956667  6.371877       (512, 512, 512)           8  0.003   \n",
       "41      0.957333  0.238581  (512, 512, 512, 512)           8  0.001   \n",
       "\n",
       "    dropout_rate  batch_normalization  \n",
       "50           0.2                False  \n",
       "12           0.1                False  \n",
       "32           0.0                False  \n",
       "18           0.1                False  \n",
       "46           0.2                False  \n",
       "67           0.1                False  \n",
       "52           0.0                False  \n",
       "11           0.0                False  \n",
       "77           0.2                 True  \n",
       "41           0.1                False  "
      ]
     },
     "execution_count": 81,
     "metadata": {},
     "output_type": "execute_result"
    }
   ],
   "source": [
    "# Inspect least 10 models\n",
    "exp_data.sort_values('val_accuracy', ascending=True).head(10)"
   ]
  },
  {
   "cell_type": "markdown",
   "id": "13188e0f",
   "metadata": {},
   "source": [
    "Worst models also show consistent pattern with no batch normalization, low batch size and largest tested learning rate. "
   ]
  },
  {
   "cell_type": "code",
   "execution_count": 111,
   "id": "f2df39f5",
   "metadata": {
    "scrolled": true
   },
   "outputs": [
    {
     "data": {
      "text/plain": [
       "<seaborn.axisgrid.FacetGrid at 0x7fb980d8d7f0>"
      ]
     },
     "execution_count": 111,
     "metadata": {},
     "output_type": "execute_result"
    },
    {
     "data": {
      "image/png": "[encoded data removed]",
      "text/plain": [
       "<Figure size 1296x864 with 6 Axes>"
      ]
     },
     "metadata": {},
     "output_type": "display_data"
    }
   ],
   "source": [
    "# Plot experiment results \n",
    "sns.set_style(\"ticks\")\n",
    "sns.set_palette(\"tab10\")\n",
    "fig = sns.FacetGrid(exp_data, col = 'batch_size', row='batch_normalization', height=6)\n",
    "fig.map(sns.pointplot,'lr','val_accuracy')"
   ]
  },
  {
   "cell_type": "markdown",
   "id": "2ec7cb43",
   "metadata": {},
   "source": [
    "When batch normalization is included larger learning rates do not lead to divergence. When it is missing problem appear most significant when using small batch size. Results indicate it would be reasonalbe to investigate even larger batch sizes. However running another scan would take long time and probably simple convolutional network will work better anyway. "
   ]
  },
  {
   "cell_type": "code",
   "execution_count": 119,
   "id": "2a240333",
   "metadata": {},
   "outputs": [
    {
     "name": "stdout",
     "output_type": "stream",
     "text": [
      "Deploy package mnist_model have been saved.\n"
     ]
    },
    {
     "data": {
      "text/plain": [
       "<talos.commands.deploy.Deploy at 0x7fb97a220b20>"
      ]
     },
     "execution_count": 119,
     "metadata": {},
     "output_type": "execute_result"
    }
   ],
   "source": [
    "# Save best model to file\n",
    "talos.Deploy(scan_object=scan_object, model_name='mnist_model', metric='val_accuracy')"
   ]
  },
  {
   "cell_type": "code",
   "execution_count": 120,
   "id": "1265b0ae",
   "metadata": {},
   "outputs": [],
   "source": [
    "# load model from file\n",
    "best_model = talos.Restore('mnist_model.zip')"
   ]
  },
  {
   "cell_type": "code",
   "execution_count": 142,
   "id": "e33d1c89",
   "metadata": {},
   "outputs": [
    {
     "data": {
      "text/plain": [
       "<keras.callbacks.History at 0x7fb94ed0b3d0>"
      ]
     },
     "execution_count": 142,
     "metadata": {},
     "output_type": "execute_result"
    }
   ],
   "source": [
    "best_model.model.compile(optimizer=Adam(learning_rate=0.0030), \n",
    "                         loss='categorical_crossentropy', \n",
    "                         metrics=['accuracy'])\n",
    "best_model.model.fit(X_train_tr, y_train, \n",
    "                     validation_data = [X_valid_tr, y_valid], \n",
    "                        batch_size = 32, \n",
    "                        callbacks = [early_stopping_cb, tf.keras.callbacks.TensorBoard(get_run_logdir())], \n",
    "                        epochs = 100,\n",
    "                        verbose = 0\n",
    "                        )"
   ]
  },
  {
   "cell_type": "code",
   "execution_count": 159,
   "id": "f3e7cdae",
   "metadata": {
    "id": "f3e7cdae",
    "scrolled": true
   },
   "outputs": [
    {
     "name": "stdout",
     "output_type": "stream",
     "text": [
      "313/313 [==============================] - 1s 2ms/step\n"
     ]
    },
    {
     "data": {
      "text/plain": [
       "<AxesSubplot:>"
      ]
     },
     "execution_count": 159,
     "metadata": {},
     "output_type": "execute_result"
    },
    {
     "data": {
      "image/png": "[encoded data removed]",
      "text/plain": [
       "<Figure size 720x576 with 2 Axes>"
      ]
     },
     "metadata": {},
     "output_type": "display_data"
    }
   ],
   "source": [
    "# create confusion matrix\n",
    "predictions = best_model.model.predict(X_test_tr)\n",
    "conf_matrix = tf.math.confusion_matrix(labels=tf.argmax(y_test, axis=1), predictions=tf.argmax(predictions, axis=1))\n",
    "# plot confusion matrix\n",
    "plt.figure(figsize=(10,8))\n",
    "sns.heatmap(conf_matrix, annot=True, linecolor=\"white\", linewidths=2)"
   ]
  },
  {
   "cell_type": "markdown",
   "id": "ef295c38",
   "metadata": {},
   "source": [
    "Main type of errors are betweenp airs 5-3 and 9-4. "
   ]
  },
  {
   "cell_type": "code",
   "execution_count": 164,
   "id": "a0e5bd7d",
   "metadata": {
    "id": "a0e5bd7d"
   },
   "outputs": [
    {
     "name": "stdout",
     "output_type": "stream",
     "text": [
      "Testing accuracy of model is 0.977 and loss is 0.089\n"
     ]
    }
   ],
   "source": [
    "# evaluate model on test set\n",
    "test_results = best_model.model.evaluate(X_test_tr, y_test, verbose=0)\n",
    "print(\"Testing accuracy of model is {} and loss is {}\".format(round(test_results[1], 3), round(test_results[0], 3)))"
   ]
  }
 ],
 "metadata": {
  "accelerator": "GPU",
  "colab": {
   "collapsed_sections": [],
   "name": "notebook.ipynb",
   "provenance": []
  },
  "gpuClass": "standard",
  "kernelspec": {
   "display_name": "Python 3 (ipykernel)",
   "language": "python",
   "name": "python3"
  },
  "language_info": {
   "codemirror_mode": {
    "name": "ipython",
    "version": 3
   },
   "file_extension": ".py",
   "mimetype": "text/x-python",
   "name": "python",
   "nbconvert_exporter": "python",
   "pygments_lexer": "ipython3",
   "version": "3.9.7"
  }
 },
 "nbformat": 4,
 "nbformat_minor": 5
}
