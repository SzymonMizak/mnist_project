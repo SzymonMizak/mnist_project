{
 "cells": [
  {
   "cell_type": "code",
   "execution_count": 1,
   "id": "dcb23931",
   "metadata": {},
   "outputs": [
    {
     "name": "stdout",
     "output_type": "stream",
     "text": [
      "checking hook\n"
     ]
    }
   ],
   "source": [
    "print(\"checking hook\")"
   ]
  },
  {
   "cell_type": "code",
   "execution_count": 1,
   "id": "3c1ae7a8",
   "metadata": {},
   "outputs": [
    {
     "name": "stdout",
     "output_type": "stream",
     "text": [
      "raz raz raz\n"
     ]
    }
   ],
   "source": [
    "print(\"raz raz raz\")"
   ]
  },
  {
   "cell_type": "code",
   "execution_count": null,
   "id": "e2c678e1",
   "metadata": {},
   "outputs": [],
   "source": [
    "1+2"
   ]
  }
 ],
 "metadata": {
  "kernelspec": {
   "display_name": "Python 3 (ipykernel)",
   "language": "python",
   "name": "python3"
  },
  "language_info": {
   "codemirror_mode": {
    "name": "ipython",
    "version": 3
   },
   "file_extension": ".py",
   "mimetype": "text/x-python",
   "name": "python",
   "nbconvert_exporter": "python",
   "pygments_lexer": "ipython3",
   "version": "3.9.7"
  }
 },
 "nbformat": 4,
 "nbformat_minor": 5
}
